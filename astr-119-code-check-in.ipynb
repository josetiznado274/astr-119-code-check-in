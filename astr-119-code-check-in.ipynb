{
 "cells": [
  {
   "cell_type": "code",
   "execution_count": null,
   "metadata": {},
   "outputs": [],
   "source": [
    "#This instruction allows us to import different codes such as plotting and values\n",
    "%matplotlib inline\n",
    "import matplotlib.pyplot as plt\n",
    "import numpy as np"
   ]
  },
  {
   "cell_type": "code",
   "execution_count": null,
   "metadata": {},
   "outputs": [],
   "source": [
    "#This is instruction for declaring an integer and float\n",
    "i = 0    #Declared integer of i\n",
    "x = 119  #Declared float for x"
   ]
  },
  {
   "cell_type": "code",
   "execution_count": null,
   "metadata": {},
   "outputs": [],
   "source": [
    "#Instruction for a for loop of even plus 3 and odd minus 5\n",
    "\n",
    "for i in range(120):    #loop i from 0 to 119, inclusive\n",
    "    if((i%2)==0):       #if i is even including zero \n",
    "        x += 3.         #then add a number equal to 3\n",
    "    else:               #if its not even\n",
    "        x -= 5.         #then subtract number equal to 5"
   ]
  },
  {
   "cell_type": "code",
   "execution_count": null,
   "metadata": {},
   "outputs": [],
   "source": [
    "#Instruction to print the integer.\n",
    "s = \"%3.2e\" % x     #makes a string containing x\n",
    "                    #with a sci. notation of 2 decimal places.\n",
    "print(s)            #prints s to the screen"
   ]
  }
 ],
 "metadata": {
  "kernelspec": {
   "display_name": "Python 3",
   "language": "python",
   "name": "python3"
  },
  "language_info": {
   "codemirror_mode": {
    "name": "ipython",
    "version": 3
   },
   "file_extension": ".py",
   "mimetype": "text/x-python",
   "name": "python",
   "nbconvert_exporter": "python",
   "pygments_lexer": "ipython3",
   "version": "3.8.3"
  }
 },
 "nbformat": 4,
 "nbformat_minor": 4
}
